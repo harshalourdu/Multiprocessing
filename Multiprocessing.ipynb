{
 "cells": [
  {
   "cell_type": "markdown",
   "metadata": {},
   "source": [
    "# Q1. What is multiprocessing in Python? Why is it useful?\n",
    "\n",
    "Multiprocessing in Python is a module that allows for the concurrent execution of processes, enabling parallel computation across multiple CPU cores. Unlike threading, where multiple threads share the same memory space, each process in multiprocessing has its own memory space. This allows Python programs to execute CPU-bound tasks more efficiently, making full use of multi-core processors.\n",
    "\n",
    "Why is it useful?\n",
    "\n",
    "Parallelism: Multiprocessing allows parallel execution of tasks, making programs faster, especially for CPU-bound operations.\n",
    "Avoids GIL (Global Interpreter Lock): Since each process has its own Python interpreter and memory space, the GIL does not limit multiprocessing, allowing true parallel execution.\n",
    "Better CPU Utilization: On multi-core processors, multiprocessing can utilize all available cores, improving performance.\n",
    "\n",
    "# Q2. What are the differences between multiprocessing and multithreading?\n",
    "\n",
    "1. Execution\tMultiple processes run independently, each with its own memory space.\tMultiple threads run within a single process, sharing memory space.\n",
    "2. Concurrency\tTrue parallelism (uses multiple CPU cores).\tLimited parallelism (due to the Global Interpreter Lock (GIL) in Python).\n",
    "3. Resource Isolation\tProcesses have separate memory, avoiding conflicts.\tThreads share memory, which can lead to conflicts without synchronization.\n",
    "4. Suitability\tIdeal for CPU-bound tasks (e.g., heavy computation).\tIdeal for I/O-bound tasks (e.g., network communication, file handling).\n",
    "5. Overhead\tHigher overhead due to memory and process management.\tLower overhead as threads share the same memory space.\n",
    "6. Complexity\tMore complex to implement due to inter-process communication.\tEasier to implement, but can lead to issues like race conditions and deadlocks."
   ]
  },
  {
   "cell_type": "markdown",
   "metadata": {},
   "source": [
    "# Q3. Write a Python code to create a process using the multiprocessing module."
   ]
  },
  {
   "cell_type": "code",
   "execution_count": 1,
   "metadata": {},
   "outputs": [],
   "source": [
    "import multiprocessing\n",
    "\n",
    "def print_number():\n",
    "    print(\"This is a new process.\")\n",
    "\n",
    "if __name__ == \"__main__\":\n",
    "    # Create a new process\n",
    "    process = multiprocessing.Process(target=print_number)\n",
    "    \n",
    "    # Start the process\n",
    "    process.start()\n",
    "    \n",
    "    # Wait for the process to complete\n",
    "    process.join()\n"
   ]
  },
  {
   "cell_type": "markdown",
   "metadata": {},
   "source": [
    "# Q4. What is a multiprocessing pool in Python? Why is it used?\n",
    "\n",
    "A multiprocessing pool in Python is a way to manage multiple worker processes and distribute tasks to them. It allows the parallel execution of a set of tasks using a pool of worker processes. This is useful for parallelizing repetitive tasks, such as processing multiple items in a list, as it reduces the need to manually create and manage individual processes.\n",
    "\n",
    "Why is it used?\n",
    "\n",
    "Task parallelism: The pool allows you to execute the same task on different data in parallel, improving performance.\n",
    "Simplified process management: It abstracts away the complexity of manually managing multiple processes.\n",
    "Load balancing: The pool automatically assigns tasks to available workers, improving resource utilization."
   ]
  },
  {
   "cell_type": "markdown",
   "metadata": {},
   "source": [
    "# Q5. How can we create a pool of worker processes in Python using the multiprocessing module?"
   ]
  },
  {
   "cell_type": "code",
   "execution_count": null,
   "metadata": {},
   "outputs": [],
   "source": [
    "import multiprocessing\n",
    "\n",
    "def square(x):\n",
    "    return x * x\n",
    "\n",
    "if __name__ == \"__main__\":\n",
    "    # Create a pool of 4 worker processes\n",
    "    with multiprocessing.Pool(4) as pool:\n",
    "        # Map the function to a range of numbers (parallel processing)\n",
    "        results = pool.map(square, [1, 2, 3, 4, 5])\n",
    "    \n",
    "    print(results)  # Output: [1, 4, 9, 16, 25]\n"
   ]
  },
  {
   "cell_type": "markdown",
   "metadata": {},
   "source": [
    "# Q6. Write a Python program to create 4 processes, each process should print a different number using the multiprocessing module in Python."
   ]
  },
  {
   "cell_type": "code",
   "execution_count": null,
   "metadata": {},
   "outputs": [],
   "source": [
    "import multiprocessing\n",
    "\n",
    "def print_number(number):\n",
    "    print(f\"Process {number} is running.\")\n",
    "\n",
    "if __name__ == \"__main__\":\n",
    "    # Create 4 processes, each printing a different number\n",
    "    processes = []\n",
    "    for i in range(1, 5):\n",
    "        process = multiprocessing.Process(target=print_number, args=(i,))\n",
    "        processes.append(process)\n",
    "        process.start()\n",
    "\n",
    "    # Wait for all processes to complete\n",
    "    for process in processes:\n",
    "        process.join()\n",
    "\n",
    "    print(\"All processes have finished.\")\n"
   ]
  },
  {
   "cell_type": "code",
   "execution_count": null,
   "metadata": {},
   "outputs": [],
   "source": []
  }
 ],
 "metadata": {
  "kernelspec": {
   "display_name": "Python 3",
   "language": "python",
   "name": "python3"
  },
  "language_info": {
   "codemirror_mode": {
    "name": "ipython",
    "version": 3
   },
   "file_extension": ".py",
   "mimetype": "text/x-python",
   "name": "python",
   "nbconvert_exporter": "python",
   "pygments_lexer": "ipython3",
   "version": "3.11.9"
  }
 },
 "nbformat": 4,
 "nbformat_minor": 2
}
